{
 "metadata": {
  "name": ""
 },
 "nbformat": 3,
 "nbformat_minor": 0,
 "worksheets": [
  {
   "cells": [
    {
     "cell_type": "code",
     "collapsed": false,
     "input": [
      "import numpy as np\n",
      "from copy import copy\n",
      "from collections import defaultdict"
     ],
     "language": "python",
     "metadata": {},
     "outputs": [],
     "prompt_number": 312
    },
    {
     "cell_type": "markdown",
     "metadata": {},
     "source": [
      "# The evolution of altruistic punishment\n",
      "\n",
      "No artigo [\"The evolution of altruistic punishment\"](http://www.pnas.org/content/100/6/3531.long) de 2003, Robert Boyd, Herbert Gintis, Samuel Bowles e Peter J. Richerson, criaram um modelo para tentar entender o surgimento de um equil\u00edbrio est\u00e1vel com a exist\u00eancia de agentes altru\u00edstas e punidores, isso dentro de uma din\u00e2mica simples evolucion\u00e1ria entre v\u00e1rios grupos de mesmo tamanho e com tr\u00eas tipos de agentes, Altru\u00edstas, Altru\u00edstas Punidores e Ego\u00edstas.\n",
      "\n",
      "    Both laboratory and field data suggest that people punish nonco-\n",
      "    operators even in one-shot interactions. Although such \u2018\u2018altruistic\n",
      "    punishment\u2019\u2019 may explain the high levels of cooperation in human\n",
      "    societies, it creates an evolutionary puzzle: existing models sug-\n",
      "    gest that altruistic cooperation among nonrelatives is evolution-\n",
      "    arily stable only in small groups. Thus, applying such models to the\n",
      "    evolution of altruistic punishment leads to the prediction that\n",
      "    people will not incur costs to punish others to provide benefits to\n",
      "    large groups of nonrelatives. However, here we show that an\n",
      "    important asymmetry between altruistic cooperation and altruistic\n",
      "    punishment allows altruistic punishment to evolve in populations\n",
      "    engaged in one-time, anonymous interactions. This process allows\n",
      "    both altruistic punishment and altruistic cooperation to be main-\n",
      "    tained even when groups are large and other parameter values\n",
      "    approximate conditions that characterize cultural evolution in\n",
      "    the small-scale societies in which humans lived for most of our\n",
      "    prehistory.\n",
      "\n",
      "Uma das premissas do artigo \u00e9 que associando um custo proporcional ao n\u00famero de ego\u00edstas ao fitness dos agentes altru\u00edstas punidores, mais um custo proporcional ao n\u00famero de altru\u00edstas punidores no fitness dos agentes ego\u00edstas, em conjunto com uma din\u00e2mica de conflito entre grupos torna-se poss\u00edvel o surgimento de altru\u00edstas punidores que apesar de possuirem um custo associado ao ato de puni\u00e7\u00e3o, na medida que a frequ\u00eancia dos agentes ego\u00edstas for diminuindo esse custo tender\u00e1 a zero. Mas para que a frequ\u00eancia dos ego\u00edstas diminua ao longo das gera\u00e7\u00f5es os autores adicionam uma din\u00e2mica de conflito entre grupos onde a probabilidade de vit\u00f3ria de um grupo decai com o n\u00famero de ego\u00edstas presentes no grupo.\n",
      "\n",
      "Considera-se no modelo os seguintes fitness esperados para os tr\u00eas tipos de agentes:\n",
      "\n",
      "$W_a = b(f_a + f_p) - c$\n",
      "\n",
      "$W_p = b(f_a + f_p) - k(1 - f_e)$\n",
      "\n",
      "$W_e = b(f_a + f_p) - pf_p$\n",
      "\n",
      "Onde $W_a$ ($f_a$), $W_p$ ($f_p$) e $W_e$ ($f_e$) s\u00e3o os fitness (frequ\u00eancia) dos agentes de tipo altru\u00edsta, punidores e ego\u00edstas respectivamente.\n",
      "\n",
      "Com isso o fitness esperado de um altru\u00edsta poder\u00e1 ser maior que o de um ego\u00edsta quando existir um n\u00famero suficiente de punidores $pf_p > c$.\n"
     ]
    },
    {
     "cell_type": "markdown",
     "metadata": {},
     "source": [
      "## Par\u00e2metros do modelo\n",
      "\n",
      "* **$N_g$:** Number of groups\n",
      "* **n:** Group population size\n",
      "* **c:** Cooperation cost\n",
      "* **k:** Punishment cost\n",
      "* **p:** Punishee cost\n",
      "* **e:** Erroneus defection probability\n",
      "* **m:** Migration rate\n",
      "* **mu:** Mutation rate\n",
      "* **eps:** Group extinction rate\n",
      "\n",
      "## Din\u00e2mica do modelo\n",
      "\n",
      "1. Coopera\u00e7\u00e3o\n",
      "  * Cooperadores e punidores contribuem com probabilidade 1 - **$e$**\n",
      "  * Payoff dos cooperadores e punidores \u00e9 reduzido em **$c$**\n",
      "\n",
      "2. Puni\u00e7\u00e3o\n",
      "  * Punidores punem n\u00e3o cooperadores\n",
      "  \n",
      "3. Migra\u00e7\u00e3o\n",
      "  * Encontro entre ind\u00edviduos do mesmo grupo com probabilidade 1 - **$m$** e **$m$** se for de outro grupo\n",
      "  * No encontro i imita j com probabilidade **$W_j/(W_j + W_i)$**\n",
      "  \n",
      "4. Conflito de grupo\n",
      "  * Com probabilidade **eps** ocorre um conflito entre dois grupos\n",
      "  * Grupo i ganha de j com probabilidade $\\frac{(1 + (d_i - d_j))}{2}$ onde $d$ \u00e9 o n\u00famero de n\u00e3o cooperadores de um grupo\n",
      "  \n",
      "5. Muta\u00e7\u00e3o\n",
      "  * Com probabilidade mu um ind\u00edviduo muda de um tipo para um dos outros tipos\n"
     ]
    },
    {
     "cell_type": "heading",
     "level": 2,
     "metadata": {},
     "source": [
      "Din\u00e2mica de conflito em grupo"
     ]
    },
    {
     "cell_type": "markdown",
     "metadata": {},
     "source": [
      "No artigo a probabilidade de um grupo *i* vencer um grupo *j* em um conflito \u00e9 $1/2(1 + d_j - d_i)$, onde $d_k$ \u00e9 numero de agentes ego\u00edstas do grupo $k$. \n",
      "\n",
      "O argumento dos autores \u00e9 que isso d\u00e1 uma probabilidade maior de um grupo vencer um conflito se ele possuir um n\u00famero menos de ego\u00edstas que o outro grupo. No entanto para obtermos um vi\u00e9s para o grupo $i$ quando $d_j > d_i$, teremos que ter:\n",
      "\n",
      "$ 1/2(1 + d_i - d_j) > 1/2$\n",
      "\n",
      "$ 1/(1 + d_i - d_j) > 1$\n",
      "\n",
      "$ 0 > d_i - d_j$\n",
      "\n",
      "$ d_j > d_i $\n",
      "\n",
      "Ou seja, $d_i$ e $d_j$ est\u00e3o trocados na f\u00f3rmula do artigo."
     ]
    },
    {
     "cell_type": "markdown",
     "metadata": {},
     "source": [
      "A seguir apenas um pequeno c\u00f3digo para testar essa din\u00e2mica em 128 grupos de 64 agentes. Os grupos s\u00e3o representados por um vetor de 128 elementos inteiros, com valores de 0 \u00e0 64 representando o n\u00famero de agentes ego\u00edstas no grupo."
     ]
    },
    {
     "cell_type": "code",
     "collapsed": false,
     "input": [
      "eps = 0.075\n",
      "mean_series = [] # Mean series of number of defectors\n",
      "gs = map(float,np.random.randint(0, 64, size=128))\n",
      "\n",
      "for _ in xrange(0,10000):\n",
      "    mean_series.append(np.mean(gs))\n",
      "    p = np.random.random()\n",
      "    if p < eps:\n",
      "        i,j = np.random.choice(128, 2, replace=False)\n",
      "        p = np.random.random()\n",
      "        if p < 1/(2*(1 + (gs[i] - gs[j])/64)):\n",
      "            gs[j] = gs[i]\n",
      "        else:\n",
      "            gs[i] = gs[j]"
     ],
     "language": "python",
     "metadata": {},
     "outputs": [],
     "prompt_number": 46
    },
    {
     "cell_type": "markdown",
     "metadata": {},
     "source": [
      "Note pelo gr\u00e1fico a seguir da m\u00e9dia de ego\u00edstas nos grupos ao longo das gera\u00e7\u00f5es, que mesmo n\u00e3o existindo nenhuma din\u00e2mica interna nos grupos a tend\u00eancia \u00e9 que diminua o n\u00famero de ego\u00edstas. "
     ]
    },
    {
     "cell_type": "code",
     "collapsed": false,
     "input": [
      "plot(mean_series)"
     ],
     "language": "python",
     "metadata": {},
     "outputs": [
      {
       "metadata": {},
       "output_type": "pyout",
       "prompt_number": 47,
       "text": [
        "[<matplotlib.lines.Line2D at 0x5ac1a50>]"
       ]
      },
      {
       "metadata": {},
       "output_type": "display_data",
       "png": "[encoded data removed]",
       "text": [
        "<matplotlib.figure.Figure at 0x55aa750>"
       ]
      }
     ],
     "prompt_number": 47
    },
    {
     "cell_type": "heading",
     "level": 2,
     "metadata": {},
     "source": [
      "C\u00f3digo para simular o modelo"
     ]
    },
    {
     "cell_type": "markdown",
     "metadata": {},
     "source": [
      "A seguir est\u00e1 o c\u00f3digo em Python para simular o modelo do artigo. Optei por criar duas classes, Groups e Group para separar bem a din\u00e2mica que fosse interna aos grupos da din\u00e2mica da intera\u00e7\u00e3o entre grupos. Os agentes s\u00e3o representados por um vetor de inteiros de um objeto do tipo Group, podendo possuir os valor 0 (Altru\u00edsta), 1 (Punidor) e 2 (Ego\u00edsta). Poder\u00edamos ter feito uma simula\u00e7\u00e3o apenas utilizando um vetor de tr\u00eas elementos contendo a fra\u00e7\u00e3o de cada tipo de agente, mas isso limitaria a expans\u00e3o do modelo para din\u00e2micas mais complexas onde gostar\u00edamos de explorar por exemplo, um estrutura espacial que implicaria em uma amostragem diferentes dos grupos e dos agentes. "
     ]
    },
    {
     "cell_type": "code",
     "collapsed": false,
     "input": [
      "class Groups:\n",
      "    def __init__(self, groups, eps):\n",
      "        self.groups = groups\n",
      "        self.eps = eps\n",
      "\n",
      "    def migration(self):\n",
      "        for gi, group in enumerate(self.groups):\n",
      "            for i in xrange(group.size):\n",
      "                p = np.random.random()\n",
      "                if p < 1 - group.migration_rate:\n",
      "                    while True:\n",
      "                        j = np.random.randint(0, group.size)\n",
      "                        if i != j:\n",
      "                            break\n",
      "                    prob_imitation = group.agent_fitness[j]/(group.agent_fitness[i] + group.agent_fitness[j])\n",
      "                    p = np.random.random()\n",
      "                    if p < prob_imitation:\n",
      "                        group.num_atype[group.agents[i]] -= 1\n",
      "                        group.agents[i] = group.agents[j]\n",
      "                        group.num_atype[group.agents[j]] += 1\n",
      "                else:\n",
      "                    while True:\n",
      "                        gj = np.random.randint(0, len(self.groups))\n",
      "                        if gi != gj:\n",
      "                            break\n",
      "                    j = np.random.randint(0, self.groups[gj].size)\n",
      "                    prob_imitation = self.groups[gj].agent_fitness[j]/(group.agent_fitness[i] + self.groups[gj].agent_fitness[j])\n",
      "                    p = np.random.random()\n",
      "                    if p < prob_imitation:\n",
      "                        group.num_atype[group.agents[i]] -= 1\n",
      "                        group.agents[i] = self.groups[gj].agents[j]    \n",
      "                        group.num_atype[self.groups[gj].agents[j]] += 1\n",
      "\n",
      "    def conflict(self):\n",
      "        p = np.random.random()\n",
      "        if p < self.eps:\n",
      "            i,j = np.random.choice(range(len(self.groups)), 2, replace=False)\n",
      "            p = np.random.random()\n",
      "            if p < 1/(2*(1 + (self.groups[i].num_atype[2] - self.groups[j].num_atype[2])/64)):\n",
      "                self.groups[j] = copy(self.groups[i])\n",
      "            else:\n",
      "                self.groups[i] = copy(self.groups[j])\n",
      "    \n",
      "    def update(self):\n",
      "        for group in self.groups:\n",
      "            group.update()\n",
      "        self.migration()\n",
      "        self.conflict()\n",
      "        for group in self.groups:\n",
      "            group.mutate()        \n",
      "        \n",
      "class Group:\n",
      "    def __init__(self, size, e, b, c, k, p, mu, inds=None):\n",
      "        self.size = size\n",
      "        self.migration_rate = m\n",
      "        self.mu = mu\n",
      "        self.e = e\n",
      "        self.b = b\n",
      "        self.c = c\n",
      "        self.k = k\n",
      "        self.p = p\n",
      "        self.coop_num = 0\n",
      "        self.last_num_cooperators = 0\n",
      "        self.agent_actions = np.zeros(self.size)\n",
      "        self.agent_fitness = np.zeros(self.size)\n",
      "        self.num_atype = np.zeros(3)\n",
      "        \n",
      "        if not inds:\n",
      "            self.agents = self.create_random_agents()\n",
      "        else:\n",
      "            self.num_atype[0] = inds[0]\n",
      "            self.num_atype[1] = inds[1]\n",
      "            self.num_atype[2] = inds[2]\n",
      "            self.agents = self.create_agents(inds[0], inds[1], inds[2])\n",
      "            np.random.shuffle(self.agents)\n",
      "        \n",
      "    def create_random_agents(self, n=None):\n",
      "        if not n:\n",
      "            return np.random.choice([0,1,2], self.size)\n",
      "        else: \n",
      "            return np.random.choice([0,1,2], n)\n",
      "    \n",
      "    def create_agents(self, n_coop, n_pun, n_ego):\n",
      "        agents = np.concatenate([np.repeat(0, n_coop), np.repeat(1, n_pun), np.repeat(2, n_ego)])\n",
      "        return agents\n",
      "    \n",
      "    def random_cooperation(self):\n",
      "        self.last_num_cooperators = 0\n",
      "        for i in xrange(self.size):\n",
      "            # Just test altruists (0) or punishers (1) for cooperation\n",
      "            if self.agents[i] != 2: \n",
      "                p = np.random.random()\n",
      "                if p < 1 - self.e:\n",
      "                    # 1 = Agent cooperates\n",
      "                    self.last_num_cooperators += 1\n",
      "                    self.agent_actions[i] = 1\n",
      "                else:\n",
      "                    # -1 = Agent defects\n",
      "                    self.agent_actions[i] = -1\n",
      "            else: # Defectors always defect\n",
      "                self.agent_actions[i] = -1\n",
      "    \n",
      "    def update_fitness(self):\n",
      "        coop_percentage = self.last_num_cooperators/self.size\n",
      "        for i in xrange(self.size):\n",
      "            if self.agent_actions[i] == -1:\n",
      "                if self.agents[i] == 1:\n",
      "                    # Defector Punishers have a additional fitness loss because of the punishment cost\n",
      "                    self.agent_fitness[i] = self.b*coop_percentage - self.p*self.num_atype[1] - self.k*(1 - coop_percentage)\n",
      "                else:\n",
      "                    self.agent_fitness[i] = self.b*coop_percentage - self.p*self.num_atype[1]\n",
      "            else:\n",
      "                if self.agents[i] == 0:\n",
      "                    self.agent_fitness[i] = self.b*coop_percentage - self.c\n",
      "                else:\n",
      "                    self.agent_fitness[i] = self.b*coop_percentage - self.c - self.k*(1 - coop_percentage)\n",
      "\n",
      "    def update(self):\n",
      "        self.random_cooperation()\n",
      "        self.update_fitness()\n",
      "        \n",
      "    def mutate(self):\n",
      "        mutations_number = np.random.binomial(self.size, self.mu)\n",
      "        mutations = np.random.choice(range(self.size), mutations_number, replace=False)\n",
      "        for i in mutations:\n",
      "            new_type = (self.agents[i] + np.random.randint(1, 3))%2            \n",
      "            self.num_atype[new_type] += 1\n",
      "            self.num_atype[self.agents[i]] -= 1\n",
      "            self.agents[i] = new_type\n"
     ],
     "language": "python",
     "metadata": {},
     "outputs": [],
     "prompt_number": 360
    },
    {
     "cell_type": "markdown",
     "metadata": {},
     "source": [
      "## Implementa\u00e7\u00e3o do modelo pelo c\u00f3digo acima\n",
      "\n",
      "Abaixo est\u00e1 anotado quais fun\u00e7\u00f5es das classes Groups e Group implementam cada passo na din\u00e2mica do modelo. Apenas os passos 3 e 4, Migra\u00e7\u00e3o/Conformismo e Conflito entre grupos s\u00e3o fatores n\u00e3o internos na din\u00e2mica do grupo e por isso est\u00e3o na classe Groups.\n",
      "\n",
      "1. Coopera\u00e7\u00e3o (**Group.random_cooperation**)\n",
      "  * Cooperadores e punidores contribuem com probabilidade 1 - **$e$**\n",
      "  * Payoff dos cooperadores e punidores \u00e9 reduzido em **$c$** (**Group.update_fitness**)\n",
      "\n",
      "2. Puni\u00e7\u00e3o (**Group.update_fitness**)\n",
      "  * Punidores punem n\u00e3o cooperadores\n",
      "  \n",
      "3. Migra\u00e7\u00e3o/Conformismo (**Groups.migration**)\n",
      "  * Encontro entre ind\u00edviduos do mesmo grupo com probabilidade 1 - **$m$** e **$m$** se for de outro grupo\n",
      "  * No encontro i imita j com probabilidade **$W_j/(W_j + W_i)$**\n",
      "  \n",
      "4. Conflito de grupo (**Groups.conflict**)\n",
      "  * Com probabilidade **eps** ocorre um conflito entre dois grupos\n",
      "  * Grupo i ganha de j com probabilidade $\\frac{(1 + (d_i - d_j))}{2}$ onde $d$ \u00e9 o n\u00famero de n\u00e3o cooperadores de um grupo\n",
      "  \n",
      "5. Muta\u00e7\u00e3o (**Group.mutate**)\n",
      "  * Com probabilidade mu um ind\u00edviduo muda de um tipo para um dos outros tipos\n"
     ]
    },
    {
     "cell_type": "heading",
     "level": 2,
     "metadata": {},
     "source": [
      "Resultados do artigo"
     ]
    },
    {
     "cell_type": "code",
     "collapsed": false,
     "input": [
      "n_g = 128\n",
      "n = 64\n",
      "b = 0.1\n",
      "c = k = 0.2\n",
      "p = 0.8\n",
      "e = 0.02\n",
      "m = 0.01\n",
      "mu = 0.01\n",
      "eps = 0.015"
     ],
     "language": "python",
     "metadata": {},
     "outputs": [],
     "prompt_number": 406
    },
    {
     "cell_type": "code",
     "collapsed": false,
     "input": [
      "def calc_cooperation_frequency(max_size=5, e=0.02, b=0.4, c=0.2, k=0.2, p=0.8, mu=0.01, time_period=100, n_g=128, migration=0.0075, rep=1):\n",
      "    group_size = [2**i for i in xrange(2, max_size)]\n",
      "    n_coop = defaultdict(list)\n",
      "    \n",
      "    for s in group_size:\n",
      "        coop = []\n",
      "        for r in xrange(rep):\n",
      "            punishers_group = Group(s, e, b, c, k, p, mu, inds=[0,s,0])\n",
      "            defectors_group = Group(s, e, b, c, k, p, mu, inds=[0,0,s])\n",
      "    \n",
      "            gs = [punishers_group] + [copy(defectors_group) for _ in xrange(0, n_g-1)]\n",
      "            groups = Groups(gs, migration)\n",
      "        \n",
      "            for t in xrange(time_period):\n",
      "                groups.update()\n",
      "                \n",
      "            coop.append(np.mean([g.last_num_cooperators for g in groups.groups])/s)\n",
      "        \n",
      "        n_coop[s] = np.mean(coop)\n",
      "    \n",
      "    return n_coop"
     ],
     "language": "python",
     "metadata": {},
     "outputs": [],
     "prompt_number": 399
    },
    {
     "cell_type": "code",
     "collapsed": false,
     "input": [
      "%time n_coop1 = calc_cooperation_frequency(9, migration=0.0075, time_period=100, rep=10)"
     ],
     "language": "python",
     "metadata": {},
     "outputs": [
      {
       "output_type": "stream",
       "stream": "stdout",
       "text": [
        "CPU times: user 12min, sys: 4.69 s, total: 12min 5s\n",
        "Wall time: 12min 3s\n"
       ]
      }
     ],
     "prompt_number": 400
    },
    {
     "cell_type": "code",
     "collapsed": false,
     "input": [
      "%time n_coop2 = calc_cooperation_frequency(9, migration=0.015, time_period=100, rep=10)"
     ],
     "language": "python",
     "metadata": {},
     "outputs": [
      {
       "output_type": "stream",
       "stream": "stdout",
       "text": [
        "CPU times: user 12min 2s, sys: 4.75 s, total: 12min 7s\n",
        "Wall time: 12min 5s\n"
       ]
      }
     ],
     "prompt_number": 402
    },
    {
     "cell_type": "code",
     "collapsed": false,
     "input": [
      "%time n_coop3 = calc_cooperation_frequency(9, migration=0.03, time_period=100, rep=10)"
     ],
     "language": "python",
     "metadata": {},
     "outputs": [
      {
       "output_type": "stream",
       "stream": "stdout",
       "text": [
        "CPU times: user 12min 2s, sys: 5.98 s, total: 12min 8s\n",
        "Wall time: 12min 7s\n"
       ]
      }
     ],
     "prompt_number": 404
    },
    {
     "cell_type": "markdown",
     "metadata": {},
     "source": [
      "Acima d\u00e1 para notar que "
     ]
    },
    {
     "cell_type": "code",
     "collapsed": false,
     "input": [
      "plot(map(lambda x: x[1], sorted(n_coop1.items(), key=lambda x: x[0])), label='0.0075')\n",
      "plot(map(lambda x: x[1], sorted(n_coop2.items(), key=lambda x: x[0])), label='0.015')\n",
      "plot(map(lambda x: x[1], sorted(n_coop3.items(), key=lambda x: x[0])), label='0.03')\n",
      "legend()"
     ],
     "language": "python",
     "metadata": {},
     "outputs": [
      {
       "metadata": {},
       "output_type": "pyout",
       "prompt_number": 405,
       "text": [
        "<matplotlib.legend.Legend at 0xdab4e50>"
       ]
      },
      {
       "metadata": {},
       "output_type": "display_data",
       "png": "[encoded data removed]",
       "text": [
        "<matplotlib.figure.Figure at 0xd995750>"
       ]
      }
     ],
     "prompt_number": 405
    },
    {
     "cell_type": "markdown",
     "metadata": {},
     "source": [
      "## Problemas\n",
      "\n",
      "1. Par\u00e2metros constantes em todos os grupos.\n",
      "2. Supondo a priori que grupos com menos defectors s\u00e3o melhores em conflitos entre grupos e colocando uma probabilidade errada no conflito entre dois grupos. \n",
      "3. C\u00f3digo em Visual Basic sob consulta!"
     ]
    }
   ],
   "metadata": {}
  }
 ]
}