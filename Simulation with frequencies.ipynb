{
 "metadata": {
  "name": ""
 },
 "nbformat": 3,
 "nbformat_minor": 0,
 "worksheets": [
  {
   "cells": [
    {
     "cell_type": "code",
     "collapsed": false,
     "input": [
      "def migration(g, gi, groups):\n",
      "    n_copy = np.random.binomial(n, 1 - m)\n",
      "    new_group = np.copy(g)\n",
      "    \n",
      "    # First individuals that copy strategy inside group\n",
      "    inds_copy = np.random.multinomial(n_copy, [g[0][C]/n, g[0][P]/n, g[0][D]/n])\n",
      "    for ind_type, n_inds in enumerate(inds_copy):\n",
      "        to_copy_list = np.random.multinomial(n_inds, [g[0][C]/n, g[0][P]/n, g[0][D]/n])\n",
      "        for to_copy_type, n_to_copy in enumerate(to_copy_list):\n",
      "            if to_copy_type != ind_type:\n",
      "                p = np.random.random()\n",
      "                if p < g[1][to_copy_type]/(g[1][ind_type] + g[1][to_copy_type]):\n",
      "                    new_group[0][ind_type] -= n_to_copy\n",
      "                    new_group[0][to_copy_type] += n_to_copy\n",
      "        \n",
      "    inds_copy = [g[0][k] - inds_copy[k] for k in xrange(3)]\n",
      "    for ti, agents_num in enumerate(inds_copy):\n",
      "        for i in xrange(agents_num):\n",
      "            group_k = -1\n",
      "            while group_k != gi:\n",
      "                group_k = np.random.randint(0, n_g)\n",
      "            k = np.random.choice([0,1,2], p=[groups[group_k][0][C]/n, groups[group_k][0][P]/n, groups[group_k][0][D]/n])\n",
      "            p = np.random.random()\n",
      "            if p < groups[group_k][1][k]/(g[1][ti] + groups[group_k][1][k]):\n",
      "                new_group[0][i] -= 1\n",
      "                new_groug[0][j] += 1                        \n",
      "\n",
      "    return new_group\n",
      "\n",
      "def group_conflict(i, j):\n",
      "    if p < 1/2*(1 + (d_j - d_i)):\n",
      "        pass\n",
      "\n",
      "def update_group(g):\n",
      "    # how much cooperates? binomial of cooperators and punishers\n",
      "    num = np.random.binomial(g[0][0] + g[0][1], 1 - e) if g[0][0] + g[0][1] > 0 else 0\n",
      "    group.update_after_cooperates()\n",
      "    \n",
      "    update_c(g, num_cooperators)\n",
      "    update_p(g, num_cooperators)\n",
      "    update_d(g, num_cooperators)    \n",
      "              \n",
      "def update_groups(groups):\n",
      "    for g in groups:\n",
      "        update_group(g)\n",
      "    # Migration\n",
      "    new_groups = []\n",
      "    for gi, g in enumerate(groups):\n",
      "        new_groups.append(migration(g, gi, groups))\n",
      "    # Mutation\n",
      "    for gi, g in enumerate(groups):\n",
      "        num_mutations = np.random.binomial(n, mu)\n",
      "        mut_type = np.random.multinomial(num_mutations, [g[0][0]/n, g[0][1]/n, g[0][2]/n])\n",
      "        print mut_type"
     ],
     "language": "python",
     "metadata": {},
     "outputs": []
    }
   ],
   "metadata": {}
  }
 ]
}